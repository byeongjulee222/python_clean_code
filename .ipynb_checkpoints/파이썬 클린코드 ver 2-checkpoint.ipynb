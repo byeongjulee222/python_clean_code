{
 "cells": [
  {
   "cell_type": "markdown",
   "id": "91a66ca4",
   "metadata": {},
   "source": [
    "# 파이썬 클린코드 ver 2"
   ]
  },
  {
   "cell_type": "markdown",
   "id": "7de2fe8b",
   "metadata": {},
   "source": [
    "## 1. 코드 포매팅과 도구\n",
    "\n",
    "- 클린코드란?\n",
    "- 클린코드가 성공적인 소프트웨어 엔지니어링 프로젝트를 위해 왜 중요한 요소인가?"
   ]
  },
  {
   "cell_type": "code",
   "execution_count": 1,
   "id": "9aacaa37",
   "metadata": {},
   "outputs": [],
   "source": [
    "from dataclasses import dataclass\n",
    "@dataclass\n",
    "class Point:\n",
    "    lat: float\n",
    "    lon: float"
   ]
  },
  {
   "cell_type": "code",
   "execution_count": 2,
   "id": "edf682f9",
   "metadata": {},
   "outputs": [
    {
     "data": {
      "text/plain": [
       "{'lat': float, 'lon': float}"
      ]
     },
     "execution_count": 2,
     "metadata": {},
     "output_type": "execute_result"
    }
   ],
   "source": [
    "Point.__annotations__"
   ]
  },
  {
   "cell_type": "code",
   "execution_count": 3,
   "id": "7fe0502e",
   "metadata": {},
   "outputs": [
    {
     "data": {
      "text/plain": [
       "Point(lat=1, lon=2)"
      ]
     },
     "execution_count": 3,
     "metadata": {},
     "output_type": "execute_result"
    }
   ],
   "source": [
    "Point(1, 2)"
   ]
  },
  {
   "cell_type": "code",
   "execution_count": null,
   "id": "1f602647",
   "metadata": {},
   "outputs": [],
   "source": []
  },
  {
   "cell_type": "markdown",
   "id": "50861053",
   "metadata": {},
   "source": [
    "### 도구 설정\n",
    "\n",
    "- 이 코드를 동료 개발자가 쉽게 이해하고 따라갈 수 있을까?\n",
    "- 업무 도메인에 대해서 말하고 있는가?\n",
    "- 팀에 새로 합류하는 사람도 쉽게 이해하고 효과적으로 작업할 수 있을까?\n",
    "\n",
    "-> 엔지니어나 팀 리더가 PEP-8을 준수하였는지 항상 확인하도록 할 필요 없이 빌드의 결과가 자동으로 답변을 할 수 있도록 해야 한다.\n",
    "\n",
    "---\n",
    "검증도구 목록\n",
    "* mypy\n",
    "* pytype\n",
    "* pylint\n",
    "* Coala\n",
    "* black"
   ]
  },
  {
   "cell_type": "code",
   "execution_count": 1,
   "id": "74961079",
   "metadata": {},
   "outputs": [
    {
     "name": "stdout",
     "output_type": "stream",
     "text": [
      "Collecting mypy\n",
      "  Downloading mypy-1.0.1-cp39-cp39-macosx_10_9_x86_64.whl (11.3 MB)\n",
      "\u001b[K     |████████████████████████████████| 11.3 MB 15.0 MB/s eta 0:00:01\n",
      "\u001b[?25hRequirement already satisfied: typing-extensions>=3.10 in /Users/dave/opt/anaconda3/lib/python3.9/site-packages (from mypy) (3.10.0.2)\n",
      "Collecting tomli>=1.1.0\n",
      "  Downloading tomli-2.0.1-py3-none-any.whl (12 kB)\n",
      "Requirement already satisfied: mypy-extensions>=0.4.3 in /Users/dave/opt/anaconda3/lib/python3.9/site-packages (from mypy) (0.4.3)\n",
      "Installing collected packages: tomli, mypy\n",
      "Successfully installed mypy-1.0.1 tomli-2.0.1\n",
      "Note: you may need to restart the kernel to use updated packages.\n"
     ]
    }
   ],
   "source": [
    "pip install mypy"
   ]
  },
  {
   "cell_type": "code",
   "execution_count": 6,
   "id": "dfd917bd",
   "metadata": {},
   "outputs": [],
   "source": [
    "from collections.abc import Iterable\n",
    "import logging\n",
    "\n",
    "logger = logging.getLogger(__name__)\n",
    "\n",
    "def broadcast_notification(\n",
    "    message: str,\n",
    "    relevant_user_emails: Iterable[str]\n",
    "):\n",
    "    for email in relevant_user_emails:\n",
    "        logger.info(f\"{message} 메시지를 {email}에게 전달\")"
   ]
  },
  {
   "cell_type": "code",
   "execution_count": 7,
   "id": "9ffbde46",
   "metadata": {},
   "outputs": [],
   "source": [
    "broadcast_notification(\"welcome\", \"user1@domain.com\")"
   ]
  },
  {
   "cell_type": "code",
   "execution_count": null,
   "id": "69ee7da1",
   "metadata": {},
   "outputs": [],
   "source": []
  },
  {
   "cell_type": "markdown",
   "id": "6a32444e",
   "metadata": {},
   "source": [
    "## 2. 파이썬스러운 코드\n",
    "\n",
    "- 아이디어를 파이썬으로 표현하는 방식과 그 특수성\n",
    "---\n",
    "목표\n",
    "- 인덱스와 슬라이스를 이해하고 인덱싱 가능한 객체를 올바른 방식으로 구현하기\n",
    "- 시퀀스와 이터러블 구현하기\n",
    "- 컨텍스트 관리자를 만드는 모범 사례 연구 그리고 어떻게 효율적으로 작성할 수 있는지\n",
    "- 매직 메서드를 사용해 보다 관용적인 코드 구현\n",
    "- 파이썬에서 부작용을 유발하는 흔한 실수 피하기"
   ]
  },
  {
   "cell_type": "code",
   "execution_count": 8,
   "id": "11d9f008",
   "metadata": {},
   "outputs": [],
   "source": [
    "my_numbers = (1, 1, 2, 3, 5, 8, 13, 21)"
   ]
  },
  {
   "cell_type": "code",
   "execution_count": 11,
   "id": "feb5b417",
   "metadata": {},
   "outputs": [
    {
     "data": {
      "text/plain": [
       "(1, 3, 8)"
      ]
     },
     "execution_count": 11,
     "metadata": {},
     "output_type": "execute_result"
    }
   ],
   "source": [
    "interval = slice(1, 7, 2)  # 시작, 끝, interval\n",
    "my_numbers[interval]"
   ]
  },
  {
   "cell_type": "code",
   "execution_count": 12,
   "id": "9f37a6db",
   "metadata": {},
   "outputs": [
    {
     "data": {
      "text/plain": [
       "True"
      ]
     },
     "execution_count": 12,
     "metadata": {},
     "output_type": "execute_result"
    }
   ],
   "source": [
    "interval = slice(None, 3)\n",
    "my_numbers[interval] == my_numbers[:3]"
   ]
  },
  {
   "cell_type": "code",
   "execution_count": null,
   "id": "1dc1b4c4",
   "metadata": {},
   "outputs": [],
   "source": []
  },
  {
   "cell_type": "code",
   "execution_count": null,
   "id": "d76d41df",
   "metadata": {},
   "outputs": [],
   "source": []
  },
  {
   "cell_type": "code",
   "execution_count": null,
   "id": "7f81c65c",
   "metadata": {},
   "outputs": [],
   "source": []
  },
  {
   "cell_type": "code",
   "execution_count": null,
   "id": "3b633626",
   "metadata": {},
   "outputs": [],
   "source": []
  },
  {
   "cell_type": "code",
   "execution_count": null,
   "id": "1e352cee",
   "metadata": {},
   "outputs": [],
   "source": []
  },
  {
   "cell_type": "code",
   "execution_count": null,
   "id": "451cafb2",
   "metadata": {},
   "outputs": [],
   "source": []
  },
  {
   "cell_type": "markdown",
   "id": "7ca31e59",
   "metadata": {},
   "source": [
    "## 5. 데코레이터를 사용한 코드 개선"
   ]
  },
  {
   "cell_type": "markdown",
   "id": "785693b9",
   "metadata": {},
   "source": [
    "### 파이썬의 데코레이터 (p180)\n",
    "\n",
    "- 파이썬에서 함수는 일반적인 객체일 뿐\n",
    "- 데코레이터 구문은 가독성을 크게 향상시킨다\n",
    "- 클래스 데코레이터는 코드 재사용과 DRY 원칙의 모든 이점을 공유한다."
   ]
  },
  {
   "cell_type": "code",
   "execution_count": 11,
   "id": "7eadb1fd",
   "metadata": {},
   "outputs": [
    {
     "name": "stdout",
     "output_type": "stream",
     "text": [
      "=￣ω￣= hello\n"
     ]
    }
   ],
   "source": [
    "def add_emoticon(func) :\n",
    "\n",
    "    def inner() :\n",
    "         print('=￣ω￣= ', end='')\n",
    "         func()\n",
    "    \n",
    "    return inner\n",
    "    \n",
    "def say_hello() :\n",
    "    print('hello')\n",
    "    \n",
    "f = add_emoticon(say_hello)\n",
    "f()"
   ]
  },
  {
   "cell_type": "code",
   "execution_count": 15,
   "id": "d2acc68f",
   "metadata": {},
   "outputs": [
    {
     "name": "stdout",
     "output_type": "stream",
     "text": [
      "=￣ω￣= hello\n"
     ]
    }
   ],
   "source": [
    "def add_emoticon(func) :\n",
    "\n",
    "    def inner() :\n",
    "        print('=￣ω￣= ', end='')\n",
    "        func()\n",
    "    \n",
    "    return inner\n",
    "    \n",
    "def say_hello() :\n",
    "    print('hello')\n",
    "    \n",
    "say_hello = add_emoticon(say_hello)\n",
    "say_hello()  #  =￣ω￣= hello\n",
    "\n",
    "@add_emoticon    # say_hi = add_emoticon(say_hi)\n",
    "def say_hi() :\n",
    "    print('hi')"
   ]
  },
  {
   "cell_type": "code",
   "execution_count": 16,
   "id": "fa3cd4da",
   "metadata": {},
   "outputs": [
    {
     "name": "stdout",
     "output_type": "stream",
     "text": [
      "=￣ω￣= hi\n"
     ]
    }
   ],
   "source": [
    "say_hi()"
   ]
  },
  {
   "cell_type": "code",
   "execution_count": null,
   "id": "74ac7af1",
   "metadata": {},
   "outputs": [],
   "source": []
  },
  {
   "cell_type": "code",
   "execution_count": null,
   "id": "5345b964",
   "metadata": {},
   "outputs": [],
   "source": []
  },
  {
   "cell_type": "code",
   "execution_count": null,
   "id": "8b036930",
   "metadata": {},
   "outputs": [],
   "source": []
  },
  {
   "cell_type": "markdown",
   "id": "32f0b46e",
   "metadata": {},
   "source": [
    "### 고급 데코레이터 (p187)"
   ]
  },
  {
   "cell_type": "code",
   "execution_count": null,
   "id": "c292b184",
   "metadata": {},
   "outputs": [],
   "source": []
  },
  {
   "cell_type": "markdown",
   "id": "59d32fc1",
   "metadata": {},
   "source": [
    "### 데코레이터 활용 우수 사례 (p199)"
   ]
  },
  {
   "cell_type": "code",
   "execution_count": null,
   "id": "8e66d35a",
   "metadata": {},
   "outputs": [],
   "source": []
  },
  {
   "cell_type": "markdown",
   "id": "e14ff781",
   "metadata": {},
   "source": [
    "### 데코레이터의 활용 - 흔한 실수 피하기 (p201)"
   ]
  },
  {
   "cell_type": "code",
   "execution_count": null,
   "id": "d6e48cd1",
   "metadata": {},
   "outputs": [],
   "source": []
  },
  {
   "cell_type": "markdown",
   "id": "6319cb3f",
   "metadata": {},
   "source": [
    "### 데코레이터와 클린 코드 (p212)\n",
    "- 상속보다 컴포지션\n",
    "- DRY 원칙"
   ]
  },
  {
   "cell_type": "markdown",
   "id": "286e1c5e",
   "metadata": {},
   "source": []
  },
  {
   "cell_type": "markdown",
   "id": "e56d59dc",
   "metadata": {},
   "source": []
  },
  {
   "cell_type": "markdown",
   "id": "2d259627",
   "metadata": {},
   "source": []
  },
  {
   "cell_type": "code",
   "execution_count": null,
   "id": "cd260939",
   "metadata": {},
   "outputs": [],
   "source": []
  },
  {
   "cell_type": "code",
   "execution_count": null,
   "id": "08ea205e",
   "metadata": {},
   "outputs": [],
   "source": []
  },
  {
   "cell_type": "code",
   "execution_count": null,
   "id": "2953d1e6",
   "metadata": {},
   "outputs": [],
   "source": []
  },
  {
   "cell_type": "code",
   "execution_count": null,
   "id": "4e728107",
   "metadata": {},
   "outputs": [],
   "source": []
  },
  {
   "cell_type": "code",
   "execution_count": null,
   "id": "2bb9f7a4",
   "metadata": {},
   "outputs": [],
   "source": []
  },
  {
   "cell_type": "code",
   "execution_count": null,
   "id": "360733ed",
   "metadata": {},
   "outputs": [],
   "source": []
  },
  {
   "cell_type": "code",
   "execution_count": null,
   "id": "3bfde01c",
   "metadata": {},
   "outputs": [],
   "source": []
  },
  {
   "cell_type": "code",
   "execution_count": null,
   "id": "e57e2288",
   "metadata": {},
   "outputs": [],
   "source": []
  },
  {
   "cell_type": "code",
   "execution_count": null,
   "id": "0b826f03",
   "metadata": {},
   "outputs": [],
   "source": []
  },
  {
   "cell_type": "code",
   "execution_count": null,
   "id": "d88ec667",
   "metadata": {},
   "outputs": [],
   "source": []
  },
  {
   "cell_type": "code",
   "execution_count": null,
   "id": "b7e3bf33",
   "metadata": {},
   "outputs": [],
   "source": []
  },
  {
   "cell_type": "code",
   "execution_count": null,
   "id": "69bf0ec6",
   "metadata": {},
   "outputs": [],
   "source": []
  },
  {
   "cell_type": "code",
   "execution_count": null,
   "id": "0270198a",
   "metadata": {},
   "outputs": [],
   "source": []
  }
 ],
 "metadata": {
  "kernelspec": {
   "display_name": "Python 3 (ipykernel)",
   "language": "python",
   "name": "python3"
  },
  "language_info": {
   "codemirror_mode": {
    "name": "ipython",
    "version": 3
   },
   "file_extension": ".py",
   "mimetype": "text/x-python",
   "name": "python",
   "nbconvert_exporter": "python",
   "pygments_lexer": "ipython3",
   "version": "3.9.7"
  }
 },
 "nbformat": 4,
 "nbformat_minor": 5
}
