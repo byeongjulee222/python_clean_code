{
 "cells": [
  {
   "cell_type": "markdown",
   "id": "91a66ca4",
   "metadata": {},
   "source": [
    "# 파이썬 클린코드 ver 2"
   ]
  },
  {
   "cell_type": "markdown",
   "id": "7de2fe8b",
   "metadata": {},
   "source": [
    "## 1. 코드 포매팅과 도구\n",
    "\n",
    "- 클린코드란?\n",
    "- 클린코드가 성공적인 소프트웨어 엔지니어링 프로젝트를 위해 왜 중요한 요소인가?"
   ]
  },
  {
   "cell_type": "code",
   "execution_count": 1,
   "id": "9aacaa37",
   "metadata": {},
   "outputs": [],
   "source": [
    "from dataclasses import dataclass\n",
    "@dataclass\n",
    "class Point:\n",
    "    lat: float\n",
    "    lon: float"
   ]
  },
  {
   "cell_type": "code",
   "execution_count": 2,
   "id": "edf682f9",
   "metadata": {},
   "outputs": [
    {
     "data": {
      "text/plain": [
       "{'lat': float, 'lon': float}"
      ]
     },
     "execution_count": 2,
     "metadata": {},
     "output_type": "execute_result"
    }
   ],
   "source": [
    "Point.__annotations__"
   ]
  },
  {
   "cell_type": "code",
   "execution_count": 3,
   "id": "7fe0502e",
   "metadata": {},
   "outputs": [
    {
     "data": {
      "text/plain": [
       "Point(lat=1, lon=2)"
      ]
     },
     "execution_count": 3,
     "metadata": {},
     "output_type": "execute_result"
    }
   ],
   "source": [
    "Point(1, 2)"
   ]
  },
  {
   "cell_type": "code",
   "execution_count": null,
   "id": "1f602647",
   "metadata": {},
   "outputs": [],
   "source": []
  },
  {
   "cell_type": "markdown",
   "id": "50861053",
   "metadata": {},
   "source": [
    "### 도구 설정\n",
    "\n",
    "- 이 코드를 동료 개발자가 쉽게 이해하고 따라갈 수 있을까?\n",
    "- 업무 도메인에 대해서 말하고 있는가?\n",
    "- 팀에 새로 합류하는 사람도 쉽게 이해하고 효과적으로 작업할 수 있을까?\n",
    "\n",
    "-> 엔지니어나 팀 리더가 PEP-8을 준수하였는지 항상 확인하도록 할 필요 없이 빌드의 결과가 자동으로 답변을 할 수 있도록 해야 한다.\n",
    "\n",
    "---\n",
    "검증도구 목록\n",
    "* mypy\n",
    "* pytype\n",
    "* pylint\n",
    "* Coala\n",
    "* black"
   ]
  },
  {
   "cell_type": "code",
   "execution_count": 1,
   "id": "74961079",
   "metadata": {},
   "outputs": [
    {
     "name": "stdout",
     "output_type": "stream",
     "text": [
      "Collecting mypy\n",
      "  Downloading mypy-1.0.1-cp39-cp39-macosx_10_9_x86_64.whl (11.3 MB)\n",
      "\u001b[K     |████████████████████████████████| 11.3 MB 15.0 MB/s eta 0:00:01\n",
      "\u001b[?25hRequirement already satisfied: typing-extensions>=3.10 in /Users/dave/opt/anaconda3/lib/python3.9/site-packages (from mypy) (3.10.0.2)\n",
      "Collecting tomli>=1.1.0\n",
      "  Downloading tomli-2.0.1-py3-none-any.whl (12 kB)\n",
      "Requirement already satisfied: mypy-extensions>=0.4.3 in /Users/dave/opt/anaconda3/lib/python3.9/site-packages (from mypy) (0.4.3)\n",
      "Installing collected packages: tomli, mypy\n",
      "Successfully installed mypy-1.0.1 tomli-2.0.1\n",
      "Note: you may need to restart the kernel to use updated packages.\n"
     ]
    }
   ],
   "source": [
    "pip install mypy"
   ]
  },
  {
   "cell_type": "code",
   "execution_count": 6,
   "id": "dfd917bd",
   "metadata": {},
   "outputs": [],
   "source": [
    "from collections.abc import Iterable\n",
    "import logging\n",
    "\n",
    "logger = logging.getLogger(__name__)\n",
    "\n",
    "def broadcast_notification(\n",
    "    message: str,\n",
    "    relevant_user_emails: Iterable[str]\n",
    "):\n",
    "    for email in relevant_user_emails:\n",
    "        logger.info(f\"{message} 메시지를 {email}에게 전달\")"
   ]
  },
  {
   "cell_type": "code",
   "execution_count": 7,
   "id": "9ffbde46",
   "metadata": {},
   "outputs": [],
   "source": [
    "broadcast_notification(\"welcome\", \"user1@domain.com\")"
   ]
  },
  {
   "cell_type": "code",
   "execution_count": null,
   "id": "69ee7da1",
   "metadata": {},
   "outputs": [],
   "source": []
  },
  {
   "cell_type": "markdown",
   "id": "6a32444e",
   "metadata": {},
   "source": [
    "## 2. 파이썬스러운 코드\n",
    "\n",
    "- 아이디어를 파이썬으로 표현하는 방식과 그 특수성\n",
    "---\n",
    "목표\n",
    "- 인덱스와 슬라이스를 이해하고 인덱싱 가능한 객체를 올바른 방식으로 구현하기\n",
    "- 시퀀스와 이터러블 구현하기\n",
    "- 컨텍스트 관리자를 만드는 모범 사례 연구 그리고 어떻게 효율적으로 작성할 수 있는지\n",
    "- 매직 메서드를 사용해 보다 관용적인 코드 구현\n",
    "- 파이썬에서 부작용을 유발하는 흔한 실수 피하기"
   ]
  },
  {
   "cell_type": "code",
   "execution_count": 8,
   "id": "11d9f008",
   "metadata": {},
   "outputs": [],
   "source": [
    "my_numbers = (1, 1, 2, 3, 5, 8, 13, 21)"
   ]
  },
  {
   "cell_type": "code",
   "execution_count": 11,
   "id": "feb5b417",
   "metadata": {},
   "outputs": [
    {
     "data": {
      "text/plain": [
       "(1, 3, 8)"
      ]
     },
     "execution_count": 11,
     "metadata": {},
     "output_type": "execute_result"
    }
   ],
   "source": [
    "interval = slice(1, 7, 2)  # 시작, 끝, interval\n",
    "my_numbers[interval]"
   ]
  },
  {
   "cell_type": "code",
   "execution_count": 12,
   "id": "9f37a6db",
   "metadata": {},
   "outputs": [
    {
     "data": {
      "text/plain": [
       "True"
      ]
     },
     "execution_count": 12,
     "metadata": {},
     "output_type": "execute_result"
    }
   ],
   "source": [
    "interval = slice(None, 3)\n",
    "my_numbers[interval] == my_numbers[:3]"
   ]
  },
  {
   "cell_type": "code",
   "execution_count": null,
   "id": "1dc1b4c4",
   "metadata": {},
   "outputs": [],
   "source": []
  },
  {
   "cell_type": "code",
   "execution_count": null,
   "id": "d76d41df",
   "metadata": {},
   "outputs": [],
   "source": []
  },
  {
   "cell_type": "code",
   "execution_count": null,
   "id": "7f81c65c",
   "metadata": {},
   "outputs": [],
   "source": []
  },
  {
   "cell_type": "code",
   "execution_count": null,
   "id": "3b633626",
   "metadata": {},
   "outputs": [],
   "source": []
  },
  {
   "cell_type": "code",
   "execution_count": null,
   "id": "1e352cee",
   "metadata": {},
   "outputs": [],
   "source": []
  },
  {
   "cell_type": "code",
   "execution_count": null,
   "id": "9c9a29a0",
   "metadata": {},
   "outputs": [],
   "source": []
  },
  {
   "cell_type": "markdown",
   "id": "af03f180",
   "metadata": {},
   "source": [
    "## 5. 데코레이터를 사용한 코드 개선"
   ]
  },
  {
   "cell_type": "markdown",
   "id": "c9eed247",
   "metadata": {},
   "source": [
    "### 파이썬의 데코레이터 (p180)\n",
    "\n",
    "- 파이썬에서 함수는 일반적인 객체일 뿐\n",
    "- 데코레이터 구문은 가독성을 크게 향상시킨다\n",
    "- 클래스 데코레이터는 코드 재사용과 DRY 원칙의 모든 이점을 공유한다.\n",
    "\n",
    "(https://kukuta.tistory.com/325)"
   ]
  },
  {
   "cell_type": "markdown",
   "id": "6c5cf843",
   "metadata": {},
   "source": [
    "- 함수 데코레이터\n",
    "  - 파라미터의 유효성을 검사하거나 사전조건을 검사\n",
    "  - 기능 전체를 새롭게 정의\n",
    "  - 서명을 변경\n",
    "  - 원래 함수의 결과를 캐시"
   ]
  },
  {
   "cell_type": "code",
   "execution_count": 11,
   "id": "162337dc",
   "metadata": {},
   "outputs": [
    {
     "name": "stdout",
     "output_type": "stream",
     "text": [
      "=￣ω￣= hello\n"
     ]
    }
   ],
   "source": [
    "def add_emoticon(func) :\n",
    "\n",
    "    def inner() :\n",
    "         print('=￣ω￣= ', end='')\n",
    "         func()\n",
    "    \n",
    "    return inner\n",
    "    \n",
    "def say_hello() :\n",
    "    print('hello')\n",
    "    \n",
    "f = add_emoticon(say_hello)\n",
    "f()"
   ]
  },
  {
   "cell_type": "code",
   "execution_count": 17,
   "id": "ffc03ebc",
   "metadata": {
    "scrolled": true
   },
   "outputs": [
    {
     "name": "stdout",
     "output_type": "stream",
     "text": [
      "=￣ω￣= hello\n"
     ]
    }
   ],
   "source": [
    "def add_emoticon(func) :\n",
    "\n",
    "    def inner() :\n",
    "        print('=￣ω￣= ', end='')\n",
    "        func()\n",
    "    \n",
    "    return inner\n",
    "    \n",
    "def say_hello() :\n",
    "    print('hello')\n",
    "    \n",
    "say_hello = add_emoticon(say_hello)\n",
    "say_hello()  #  =￣ω￣= hello\n",
    "\n",
    "@add_emoticon  # say_hi = add_emoticon(say_hi)\n",
    "def say_hi() :\n",
    "    print('hi')"
   ]
  },
  {
   "cell_type": "code",
   "execution_count": 16,
   "id": "5a81c280",
   "metadata": {},
   "outputs": [
    {
     "name": "stdout",
     "output_type": "stream",
     "text": [
      "=￣ω￣= hi\n"
     ]
    }
   ],
   "source": [
    "say_hi()"
   ]
  },
  {
   "cell_type": "code",
   "execution_count": 18,
   "id": "d10bb2f9",
   "metadata": {},
   "outputs": [],
   "source": [
    "class LoginEventSerializer:\n",
    "    def __init__(self, event):\n",
    "        self.event = event\n",
    "    \n",
    "    def serialize(self) -> dict:\n",
    "        return {\n",
    "            \"username\": self.event.username,\n",
    "            \"password\": \"**민감한 정보 삭제**\",\n",
    "            \"ip\": self.event.ip,\n",
    "            \"timestamp\": self.event.timestamp.strftime(\"%Y-%m-%d %H:%M\")\n",
    "        }\n",
    "    \n",
    "class LoginEvent:\n",
    "    SERIALIZER = LoginEventSerializer\n",
    "    \n",
    "    def __init__(self, username, password, ip, timestamp):\n",
    "        self.username = username\n",
    "        self.password = password\n",
    "        self.ip = ip\n",
    "        self.timestamp = timestamp\n",
    "    \n",
    "    def serialize(self) -> dict:\n",
    "        return self.SERIALIZER(self).serialize()"
   ]
  },
  {
   "cell_type": "code",
   "execution_count": 32,
   "id": "cc267f21",
   "metadata": {},
   "outputs": [],
   "source": [
    "from datetime import datetime\n",
    "from dataclasses import dataclass\n",
    "\n",
    "def hide_field(field) -> str:\n",
    "    return \"**민감한 정보 삭제**\"\n",
    "\n",
    "def format_time(field_timestamp: datetime) -> str:\n",
    "    return field_timestamp.strftime(\"%Y-%m-%d %H:%M\")\n",
    "\n",
    "def show_original(event_field):\n",
    "    return event_field\n",
    "\n",
    "class EventSerializer:\n",
    "    def __init__(self, serialization_fields: dict) -> None:\n",
    "        self.serialization_fields = serialization_fields\n",
    "        \n",
    "    def serialize(self, event) -> dict:\n",
    "        return {\n",
    "            field: transformation(getattr(event, field))\n",
    "            for filed, transformation in\n",
    "            self.serialization_fields.items()\n",
    "        }\n",
    "    \n",
    "class Serialization:\n",
    "    def __init__(self, **transformations):\n",
    "        self.serializer = EventSerializer(transformations)\n",
    "    \n",
    "    def __call__(self, event_class):\n",
    "        def serialize_method(event_instance):\n",
    "            return self.serializer.serialize(event_instance)\n",
    "        event_class.serialize = serialize_method\n",
    "        return event_class\n",
    "    \n",
    "@Serialization(\n",
    "    username=show_original,\n",
    "    password=hide_field,\n",
    "    ip=show_original,\n",
    "    timestamp=format_time\n",
    ")\n",
    "@dataclass\n",
    "class LoginEvent:\n",
    "    username: str\n",
    "    password: str\n",
    "    ip: str\n",
    "    timestamp: datetime"
   ]
  },
  {
   "cell_type": "code",
   "execution_count": 33,
   "id": "b1564b3c",
   "metadata": {},
   "outputs": [
    {
     "data": {
      "text/plain": [
       "'1234'"
      ]
     },
     "execution_count": 33,
     "metadata": {},
     "output_type": "execute_result"
    }
   ],
   "source": [
    "a = LoginEvent('name', '1234', '127.0.0.1', datetime.now())\n",
    "a.password"
   ]
  },
  {
   "cell_type": "code",
   "execution_count": 34,
   "id": "0ecffb50",
   "metadata": {},
   "outputs": [
    {
     "data": {
      "text/plain": [
       "datetime.datetime(2023, 3, 19, 19, 22, 24, 50014)"
      ]
     },
     "execution_count": 34,
     "metadata": {},
     "output_type": "execute_result"
    }
   ],
   "source": [
    "a.timestamp"
   ]
  },
  {
   "cell_type": "code",
   "execution_count": 35,
   "id": "9c9501fe",
   "metadata": {},
   "outputs": [
    {
     "data": {
      "text/plain": [
       "LoginEvent(username='name', password='1234', ip='127.0.0.1', timestamp=datetime.datetime(2023, 3, 19, 19, 22, 24, 50014))"
      ]
     },
     "execution_count": 35,
     "metadata": {},
     "output_type": "execute_result"
    }
   ],
   "source": [
    "a"
   ]
  },
  {
   "attachments": {
    "image.png": {
     "image/png": "[encoded data removed]"
    }
   },
   "cell_type": "markdown",
   "id": "64b1efa9",
   "metadata": {},
   "source": [
    "### Decorator Coroutine\n",
    "\n",
    "![image.png](attachment:image.png)"
   ]
  },
  {
   "cell_type": "markdown",
   "id": "f4d9409b",
   "metadata": {},
   "source": [
    "### 고급 데코레이터 (p187)"
   ]
  },
  {
   "cell_type": "code",
   "execution_count": 39,
   "id": "5da4cc86",
   "metadata": {},
   "outputs": [],
   "source": [
    "RETRIES_LIMIT = 3\n",
    "def with_retry(retries_limit=RETRIES_LIMIT, allowed_exceptions=None):\n",
    "    allowed_exceptions = allowed_exceptions or (ControlledException,)\n",
    "    \n",
    "    def retry(operation):\n",
    "        @wraps(operation)\n",
    "        def wrapped(*args, **kwargs):\n",
    "            last_raised = None\n",
    "            for _ in range(retries_limit):\n",
    "                try:\n",
    "                    return operation(*args, **kwargs)\n",
    "                except allowed_exceptions as e:\n",
    "                    logger.info(\"retrying %s due to %s\", operation, e)\n",
    "                    last_raised = e\n",
    "            raise last_raised\n",
    "        return wrapped\n",
    "    return retry\n",
    "\n",
    "# 새로운 함수가 추가될 때마다 들여쓰기가 추가되어 너무 많은 중첩 함수가 필요할 수 있다."
   ]
  },
  {
   "cell_type": "code",
   "execution_count": 48,
   "id": "3ac8a258",
   "metadata": {},
   "outputs": [],
   "source": [
    "from typing import Optional, Sequence\n",
    "from functools import wraps\n",
    "\n",
    "class ControlledException(Exception):\n",
    "    \"\"\"도메인에서 발생하는 일반적인 예외\"\"\"\n",
    "\n",
    "_DEFAULT_RETRIES_LIMIT = 3\n",
    "class WithRetry:\n",
    "    # __init__ 메서드에 파라미터를 전달한 다음 __call__ 매직 메서드에서 데코레이터의 로직을 구현하면 된다.\n",
    "    def __init__(\n",
    "        self,\n",
    "        retries_limit: int = _DEFAULT_RETRIES_LIMIT,\n",
    "        allowed_exceptions: Optional[Sequence[Exception]] = None\n",
    "    ) -> None:\n",
    "        self.retries_limit = retries_limit\n",
    "        self.allowed_exceptions = allowed_exceptions or (ControlledException,)\n",
    "    def __call__(self, operation):\n",
    "        @wraps(operation)\n",
    "        def wrapped(*args, **kwargs):\n",
    "            last_raised = None\n",
    "            \n",
    "            for _ in range(retries_limit):\n",
    "                try:\n",
    "                    return operation(*args, **kwargs)\n",
    "                except allowed_exceptions as e:\n",
    "                    logger.warning(\n",
    "                        \"%s 재시도, 원인: %s\",\n",
    "                        operation.__qualname__, e\n",
    "                    )\n",
    "                    last_raised = e\n",
    "            raise last_raised\n",
    "            \n",
    "        return wrapped\n",
    "    \n",
    "    \n",
    "# 처리 순서\n",
    "# 1. 데코레이터 객체 생성\n",
    "# 2. 초기화 진행\n",
    "# 3. @연산 호출\n",
    "# 4. __call__ 매직 메서드 호출\n",
    "@WithRetry(retries_limit=5)\n",
    "def run_with_custom_retries_limit(task):\n",
    "    return task.run()"
   ]
  },
  {
   "cell_type": "code",
   "execution_count": 50,
   "id": "4fd74be2",
   "metadata": {},
   "outputs": [],
   "source": [
    "def retry(operation):\n",
    "    @wraps(operation)\n",
    "    def wrapped(*args, **kwargs):\n",
    "        last_raised = None\n",
    "        RETRIES_LIMIT = 3\n",
    "\n",
    "        for _ in range(RETRIES_LIMIT):\n",
    "            try:\n",
    "                return operation(*args, **kwargs)\n",
    "            except ControlledException as e:\n",
    "                logger.info(\"retrying %s\", operation.__qualname__)\n",
    "                last_raised = e\n",
    "\n",
    "        raise last_raised\n",
    "\n",
    "    return wrapped"
   ]
  },
  {
   "cell_type": "code",
   "execution_count": null,
   "id": "713b4682",
   "metadata": {},
   "outputs": [],
   "source": [
    "# 기본값을 가진 데코레이터\n",
    "@retry()  # 괄호가 있는 경우: 첫번째 파라미터로 None이 전달\n",
    "def my_function():\n",
    "    pass\n",
    "\n",
    "@retry  # 괄호가 없는 경우: 첫번째 파라미터로 함수가 전달\n",
    "def your_function():\n",
    "    pass\n",
    "\n",
    "\n",
    "@decorator(x=3, y=4)\n",
    "def my_function(x, y):\n",
    "    return x + y\n",
    "my_function()  # 7"
   ]
  },
  {
   "cell_type": "markdown",
   "id": "496b1894",
   "metadata": {},
   "source": [
    "### 데코레이터 활용 우수 사례 (p199)"
   ]
  },
  {
   "cell_type": "markdown",
   "id": "9767531b",
   "metadata": {},
   "source": [
    "1. 파라미터 변환\n",
    "2. 코드 추적\n",
    "3. 파라미터 유효성 검사\n",
    "4. 재시도 로직 구현\n",
    "5. 일부 반복 작업을 데코레이터로 이동하여 클래스 단순화"
   ]
  },
  {
   "cell_type": "markdown",
   "id": "63160426",
   "metadata": {},
   "source": [
    "### 데코레이터의 활용 - 흔한 실수 피하기 (p201)"
   ]
  },
  {
   "cell_type": "markdown",
   "id": "9e4c04cc",
   "metadata": {},
   "source": [
    "- 래핑된 객체를 일부 수정하더가 래핑된 객체를 수정하는 또다른 내부 함수를 정의했다면, 결과 객체를 외부에 노출하는 코드가 있어야 한다. (p209)"
   ]
  },
  {
   "cell_type": "markdown",
   "id": "7bf9bb8b",
   "metadata": {},
   "source": [
    "### 데코레이터와 클린 코드 (p212)\n",
    "- 상속보다 컴포지션\n",
    "  - 좋은 코드는 계층 구조를 만드는 것이 아니라, 작고 응집력 있는 추상화를 통해 재사용된다.\n",
    "  - 구현상의 목적을 위해 추상화를 했다면 가급적 피하는 것이 좋으며, 기존의 도메인 객체를 손상시키지 않는 것이 훨씬 좋다.\n",
    "- DRY 원칙\n",
    "  - 신중하게 설계되지 않은 데코레이터는 코드의 복잡성을 증가시킨다.\n",
    "  - 컴포넌트가 충분히 재사용 가능한 추상화를 했다고 인정받기 위해서는 적어도 3가지 이상의 애플리케이션에서 시험해봐야 한다.\n",
    "\n",
    "- 데코레이터 사용을 권하는 경우\n",
    "  - 처음부터 데코레이터를 만들지 않는다. 패턴이 생기고 데코레이터에 대한 추상화가 명확해지면 그 때 리팩토링을 한다.\n",
    "  - 데코레이터가 적어도 3회 이상 필요한 경우에만 구현한다.\n",
    "  - 데코레이터 코드를 최소한으로 유지한다.\n",
    "  \n",
    "**데코레이터에 하나 이상의 책임을 두면 안된다. SRP는 데코레이터에도 적용된다**"
   ]
  },
  {
   "cell_type": "markdown",
   "id": "b213e47c",
   "metadata": {},
   "source": [
    "### 좋은 데코레이터 분석\n",
    "1. 캡슐화와 관심사의 분리\n",
    "- 좋은 데코레이터는 실제로 하는 일과 데코레이팅하는 일의 책임을 명확히 구분해야 한다. 어설프게 추상화 하면 안 된다. 즉, 데코레이터의 클라이언트는 내부에서 어떻게 구현했는지 전혀 알 수 없는 블랙박스 모드로 동작해야 한다.\n",
    "\n",
    "2. 독립성\n",
    "- 데코레이터가 하는 일은 독립적이어야 하며 데코레이팅되는 객체와 최대한 분리되어야 한다.\n",
    "\n",
    "3. 재사용성\n",
    "- 데코레이터는 하나의 함수 인스턴스에만 적용되는 것이 아니라 여러 유형에 적용 가능한 형태가 바람직하다. 왜냐하면 하나의 함수에만 적용된다면 데코레이터가 아니라 함수로 대신할 수도 있기 때문이다. 충분히 범용적이어야 한다."
   ]
  },
  {
   "cell_type": "markdown",
   "id": "746ece21",
   "metadata": {},
   "source": []
  },
  {
   "cell_type": "code",
   "execution_count": null,
   "id": "05903342",
   "metadata": {},
   "outputs": [],
   "source": []
  },
  {
   "cell_type": "code",
   "execution_count": null,
   "id": "08ea205e",
   "metadata": {},
   "outputs": [],
   "source": []
  },
  {
   "cell_type": "code",
   "execution_count": null,
   "id": "2953d1e6",
   "metadata": {},
   "outputs": [],
   "source": []
  },
  {
   "cell_type": "code",
   "execution_count": null,
   "id": "4e728107",
   "metadata": {},
   "outputs": [],
   "source": []
  },
  {
   "cell_type": "code",
   "execution_count": null,
   "id": "2bb9f7a4",
   "metadata": {},
   "outputs": [],
   "source": []
  },
  {
   "cell_type": "code",
   "execution_count": null,
   "id": "360733ed",
   "metadata": {},
   "outputs": [],
   "source": []
  },
  {
   "cell_type": "code",
   "execution_count": null,
   "id": "3bfde01c",
   "metadata": {},
   "outputs": [],
   "source": []
  },
  {
   "cell_type": "code",
   "execution_count": null,
   "id": "e57e2288",
   "metadata": {},
   "outputs": [],
   "source": []
  },
  {
   "cell_type": "code",
   "execution_count": null,
   "id": "0b826f03",
   "metadata": {},
   "outputs": [],
   "source": []
  },
  {
   "cell_type": "code",
   "execution_count": null,
   "id": "d88ec667",
   "metadata": {},
   "outputs": [],
   "source": []
  },
  {
   "cell_type": "code",
   "execution_count": null,
   "id": "b7e3bf33",
   "metadata": {},
   "outputs": [],
   "source": []
  },
  {
   "cell_type": "code",
   "execution_count": null,
   "id": "69bf0ec6",
   "metadata": {},
   "outputs": [],
   "source": []
  },
  {
   "cell_type": "code",
   "execution_count": null,
   "id": "0270198a",
   "metadata": {},
   "outputs": [],
   "source": []
  }
 ],
 "metadata": {
  "kernelspec": {
   "display_name": "Python 3 (ipykernel)",
   "language": "python",
   "name": "python3"
  },
  "language_info": {
   "codemirror_mode": {
    "name": "ipython",
    "version": 3
   },
   "file_extension": ".py",
   "mimetype": "text/x-python",
   "name": "python",
   "nbconvert_exporter": "python",
   "pygments_lexer": "ipython3",
   "version": "3.9.7"
  }
 },
 "nbformat": 4,
 "nbformat_minor": 5
}
